{
 "cells": [
  {
   "cell_type": "markdown",
   "metadata": {},
   "source": [
    "<div style=\"text-align: center; font-size: 40px;\">\n",
    "    <b>Final Project</b>\n",
    "    <br>\n",
    "    Markov Based Techniques on synthetic Data\n",
    "    <br>\n",
    "    \n",
    "</div>"
   ]
  },
  {
   "cell_type": "code",
   "execution_count": 1,
   "metadata": {},
   "outputs": [
    {
     "ename": "ImportError",
     "evalue": "cannot import name 'MarkovianBenchMark' from 'BenchMark.benchmark' (c:\\Users\\guill\\Documents\\info MVA\\info MVA\\TD - TS\\final project\\DAD_library\\BenchMark\\benchmark.py)",
     "output_type": "error",
     "traceback": [
      "\u001b[1;31m---------------------------------------------------------------------------\u001b[0m",
      "\u001b[1;31mImportError\u001b[0m                               Traceback (most recent call last)",
      "Cell \u001b[1;32mIn[1], line 5\u001b[0m\n\u001b[0;32m      2\u001b[0m \u001b[38;5;28;01mimport\u001b[39;00m \u001b[38;5;21;01msys\u001b[39;00m \n\u001b[0;32m      4\u001b[0m \u001b[38;5;28;01mfrom\u001b[39;00m \u001b[38;5;21;01mMarkovBased\u001b[39;00m \u001b[38;5;28;01mimport\u001b[39;00m FixedMarkovianBased, VariableMarkovianBased, SparseMarkovRIPPER\n\u001b[1;32m----> 5\u001b[0m \u001b[38;5;28;01mfrom\u001b[39;00m \u001b[38;5;21;01mBenchMark\u001b[39;00m \u001b[38;5;28;01mimport\u001b[39;00m MarkovBenchMark\n",
      "File \u001b[1;32mc:\\Users\\guill\\Documents\\info MVA\\info MVA\\TD - TS\\final project\\DAD_library\\BenchMark\\__init__.py:1\u001b[0m\n\u001b[1;32m----> 1\u001b[0m \u001b[38;5;28;01mfrom\u001b[39;00m \u001b[38;5;21;01m.\u001b[39;00m\u001b[38;5;21;01mbenchmark\u001b[39;00m \u001b[38;5;28;01mimport\u001b[39;00m MarkovianBenchMark\n\u001b[0;32m      2\u001b[0m \u001b[38;5;28;01mfrom\u001b[39;00m \u001b[38;5;21;01m.\u001b[39;00m\u001b[38;5;21;01mmarkov_sequence\u001b[39;00m \u001b[38;5;28;01mimport\u001b[39;00m MarkovSequenceGenerator\n\u001b[0;32m      3\u001b[0m \u001b[38;5;28;01mfrom\u001b[39;00m \u001b[38;5;21;01m.\u001b[39;00m\u001b[38;5;21;01mmarkov_dataset_generator\u001b[39;00m \u001b[38;5;28;01mimport\u001b[39;00m MarkovDatasetGenerator\n",
      "\u001b[1;31mImportError\u001b[0m: cannot import name 'MarkovianBenchMark' from 'BenchMark.benchmark' (c:\\Users\\guill\\Documents\\info MVA\\info MVA\\TD - TS\\final project\\DAD_library\\BenchMark\\benchmark.py)"
     ]
    }
   ],
   "source": [
    "import numpy as np\n",
    "import sys \n",
    "\n",
    "from MarkovBased import FixedMarkovianBased, VariableMarkovianBased, SparseMarkovRIPPER\n",
    "from BenchMark import MarkovBenchMark"
   ]
  },
  {
   "cell_type": "markdown",
   "metadata": {},
   "source": [
    "The Purpose of this Notebook is to test how good our implementation of the Markov Based techniques are. Since Markov chains are pretty rare to come by in real world system, we deemed it would be more appropriate to simulate them ourselves."
   ]
  },
  {
   "cell_type": "code",
   "execution_count": null,
   "metadata": {},
   "outputs": [],
   "source": []
  }
 ],
 "metadata": {
  "kernelspec": {
   "display_name": "mva_competition",
   "language": "python",
   "name": "python3"
  },
  "language_info": {
   "codemirror_mode": {
    "name": "ipython",
    "version": 3
   },
   "file_extension": ".py",
   "mimetype": "text/x-python",
   "name": "python",
   "nbconvert_exporter": "python",
   "pygments_lexer": "ipython3",
   "version": "3.12.7"
  }
 },
 "nbformat": 4,
 "nbformat_minor": 2
}
